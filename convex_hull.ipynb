{
 "cells": [
  {
   "cell_type": "code",
   "execution_count": 218,
   "id": "36a39f8b-7d1b-4a72-8435-59d9d7453e75",
   "metadata": {},
   "outputs": [],
   "source": [
    "import random\n",
    "from matplotlib import pyplot as plt\n",
    "from queue import LifoQueue\n",
    "from math import atan"
   ]
  },
  {
   "cell_type": "raw",
   "id": "6b5e1109-38c9-4ec2-937c-6666b138e6dd",
   "metadata": {},
   "source": [
    "Define a class for our points"
   ]
  },
  {
   "cell_type": "code",
   "execution_count": 219,
   "id": "3fb2af07-512c-48a6-aaf6-6494902547f5",
   "metadata": {},
   "outputs": [],
   "source": [
    "class Point:\n",
    "    def __init__(self):\n",
    "        self.xpoint = self.get_random()\n",
    "        self.ypoint = self.get_random()\n",
    "\n",
    "    def get_random(self):\n",
    "        return random.randrange(1, 100)"
   ]
  },
  {
   "cell_type": "raw",
   "id": "105e586d-94c0-4182-9eb4-243406ac699b",
   "metadata": {},
   "source": [
    "Generate a set of random x and y points"
   ]
  },
  {
   "cell_type": "code",
   "execution_count": 220,
   "id": "150e61fb-1fd2-4110-8644-b5ff42fc4a90",
   "metadata": {},
   "outputs": [],
   "source": [
    "def generatePoints(n=20, plane_size=30):\n",
    "    points = [Point() for x in range(1, plane_size)]\n",
    "\n",
    "    return points"
   ]
  },
  {
   "cell_type": "raw",
   "id": "f3dbdaa4-b811-4a8c-bf9b-d6cbb018ac0b",
   "metadata": {},
   "source": [
    "Create n points. Then put the points in a stack"
   ]
  },
  {
   "cell_type": "code",
   "execution_count": 221,
   "id": "ba0485fc-0e2f-44f0-a08f-42986cb6ca1f",
   "metadata": {},
   "outputs": [],
   "source": [
    "n = 5\n",
    "points = generatePoints(n)"
   ]
  },
  {
   "cell_type": "raw",
   "id": "eff8725c-d9cc-49f3-b8a6-2fb62cb0f7f8",
   "metadata": {},
   "source": [
    "Display the random points on a graph"
   ]
  },
  {
   "cell_type": "code",
   "execution_count": 222,
   "id": "9a7b9218-ddac-47ff-8539-e2f0ab855d13",
   "metadata": {},
   "outputs": [
    {
     "data": {
      "image/png": "[encoded data removed]",
      "text/plain": [
       "<Figure size 640x480 with 1 Axes>"
      ]
     },
     "metadata": {},
     "output_type": "display_data"
    }
   ],
   "source": [
    "xpoints = [p.xpoint for p in points]\n",
    "ypoints = [p.ypoint for p in points]\n",
    "plt.plot(xpoints, ypoints, 'o')\n",
    "plt.show()"
   ]
  },
  {
   "cell_type": "raw",
   "id": "f6d4f055-e05c-437e-9a71-abcc9d629516",
   "metadata": {},
   "source": [
    "Implement a stack using LIFO Queue from Queue module"
   ]
  },
  {
   "cell_type": "code",
   "execution_count": 223,
   "id": "63822b47-7bc8-4e5e-a9ad-3c16ac8ecbe9",
   "metadata": {},
   "outputs": [],
   "source": [
    "stack = LifoQueue(maxsize=n)"
   ]
  },
  {
   "cell_type": "raw",
   "id": "8292dba7-f252-456b-94ab-86adaf5315dc",
   "metadata": {},
   "source": [
    "Find the point with the lowest y coordinate"
   ]
  },
  {
   "cell_type": "code",
   "execution_count": 224,
   "id": "aabcd3ac-b5dd-4f15-a1c4-15fbdcd25b53",
   "metadata": {},
   "outputs": [
    {
     "data": {
      "text/plain": [
       "3"
      ]
     },
     "execution_count": 224,
     "metadata": {},
     "output_type": "execute_result"
    }
   ],
   "source": [
    "def findReferencePoint(points):\n",
    "    ref_point = None\n",
    "    for p in points:\n",
    "        if not ref_point:\n",
    "            ref_point = p\n",
    "        elif p.ypoint < ref_point.ypoint:\n",
    "            ref_point = p\n",
    "\n",
    "    return ref_point\n",
    "\n",
    "ref_point = findReferencePoint(points)\n",
    "ref_point.ypoint"
   ]
  },
  {
   "cell_type": "raw",
   "id": "ae85a882-b976-4583-ba96-3d69e561a9e6",
   "metadata": {},
   "source": [
    "Put the ref point in the stack"
   ]
  },
  {
   "cell_type": "code",
   "execution_count": 225,
   "id": "6d57c854-b0b9-4f1f-a1ca-a940a34f2683",
   "metadata": {},
   "outputs": [],
   "source": [
    "stack.put(ref_point)"
   ]
  },
  {
   "cell_type": "raw",
   "id": "b07d9696-79f4-4bd1-a961-ba3765a82faa",
   "metadata": {},
   "source": [
    "Calculate Angles between ref point and each of the other points"
   ]
  },
  {
   "cell_type": "code",
   "execution_count": 226,
   "id": "8624a59b-adbe-46d5-ac0c-6f828f2e81c0",
   "metadata": {},
   "outputs": [
    {
     "data": {
      "text/plain": [
       "[{'angle': 0.06656816377582381, 'point': <__main__.Point at 0x7fa3b8911fc0>},\n",
       " {'angle': 0.11710874456686428, 'point': <__main__.Point at 0x7fa3b895c0a0>},\n",
       " {'angle': 0.21109333322274654, 'point': <__main__.Point at 0x7fa3b8912110>},\n",
       " {'angle': 0.27015319971140506, 'point': <__main__.Point at 0x7fa3b8911c60>},\n",
       " {'angle': 0.372987721800061, 'point': <__main__.Point at 0x7fa3b88dfc70>},\n",
       " {'angle': 0.40122879900484876, 'point': <__main__.Point at 0x7fa3b88df1f0>},\n",
       " {'angle': 0.44075084777942214, 'point': <__main__.Point at 0x7fa3b8912050>},\n",
       " {'angle': 0.5614936632670988, 'point': <__main__.Point at 0x7fa3b895d120>},\n",
       " {'angle': 0.7657928325402437, 'point': <__main__.Point at 0x7fa3b88df070>},\n",
       " {'angle': 0.7687330396835076, 'point': <__main__.Point at 0x7fa3b88dd8a0>},\n",
       " {'angle': 0.8704637033660931, 'point': <__main__.Point at 0x7fa3b88df9a0>},\n",
       " {'angle': 0.9891428442813053, 'point': <__main__.Point at 0x7fa3b88de560>},\n",
       " {'angle': 1.1071487177940904, 'point': <__main__.Point at 0x7fa3b88dee60>},\n",
       " {'angle': 1.1393956002293444, 'point': <__main__.Point at 0x7fa3b88de4d0>},\n",
       " {'angle': 1.1501329776618616, 'point': <__main__.Point at 0x7fa3b8912770>},\n",
       " {'angle': 1.1514546792448666, 'point': <__main__.Point at 0x7fa3b88df970>},\n",
       " {'angle': 1.1983978801181423, 'point': <__main__.Point at 0x7fa3b88dcaf0>},\n",
       " {'angle': 1.2120256565243244, 'point': <__main__.Point at 0x7fa3b88dd450>},\n",
       " {'angle': 1.230865957325276, 'point': <__main__.Point at 0x7fa3b8912020>},\n",
       " {'angle': 1.3054642405859118, 'point': <__main__.Point at 0x7fa3b88df520>},\n",
       " {'angle': 1.322308906137494, 'point': <__main__.Point at 0x7fa3b88deec0>},\n",
       " {'angle': 1.333261694899284, 'point': <__main__.Point at 0x7fa3b8911c90>},\n",
       " {'angle': 1.334551066076459, 'point': <__main__.Point at 0x7fa3b88ded70>},\n",
       " {'angle': 1.380808038876181, 'point': <__main__.Point at 0x7fa3b8911de0>},\n",
       " {'angle': 1.446441332248135, 'point': <__main__.Point at 0x7fa3b88de590>},\n",
       " {'angle': 1.4743225516123097, 'point': <__main__.Point at 0x7fa3b8911f00>},\n",
       " {'angle': 1.5063694873693432, 'point': <__main__.Point at 0x7fa3b88dd750>},\n",
       " {'angle': 1.5554129250143014, 'point': <__main__.Point at 0x7fa3b895e170>}]"
      ]
     },
     "execution_count": 226,
     "metadata": {},
     "output_type": "execute_result"
    }
   ],
   "source": [
    "points_ordered_by_angle = []\n",
    "\n",
    "def calculateAngle(ref_point, point):\n",
    "    return atan((abs(ref_point.ypoint - point.ypoint))/(abs(ref_point.xpoint - point.xpoint)))\n",
    "\n",
    "for p in points:\n",
    "    if ref_point != p:\n",
    "        points_ordered_by_angle.append({\"angle\": calculateAngle(ref_point, p), \"point\": p})\n",
    "\n",
    "# Sort the points by angle\n",
    "points_ordered_by_angle = sorted(points_ordered_by_angle, key=lambda d: d['angle'])\n",
    "points_ordered_by_angle"
   ]
  }
 ],
 "metadata": {
  "kernelspec": {
   "display_name": "Python 3 (ipykernel)",
   "language": "python",
   "name": "python3"
  },
  "language_info": {
   "codemirror_mode": {
    "name": "ipython",
    "version": 3
   },
   "file_extension": ".py",
   "mimetype": "text/x-python",
   "name": "python",
   "nbconvert_exporter": "python",
   "pygments_lexer": "ipython3",
   "version": "3.10.12"
  }
 },
 "nbformat": 4,
 "nbformat_minor": 5
}
