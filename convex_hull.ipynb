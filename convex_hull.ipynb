{
 "cells": [
  {
   "cell_type": "code",
   "execution_count": 61,
   "id": "36a39f8b-7d1b-4a72-8435-59d9d7453e75",
   "metadata": {},
   "outputs": [],
   "source": [
    "import random\n",
    "from matplotlib import pyplot as plt\n",
    "from queue import LifoQueue\n",
    "from math import atan, pi, radians"
   ]
  },
  {
   "cell_type": "raw",
   "id": "6b5e1109-38c9-4ec2-937c-6666b138e6dd",
   "metadata": {},
   "source": [
    "Define a class for our points"
   ]
  },
  {
   "cell_type": "code",
   "execution_count": 62,
   "id": "3fb2af07-512c-48a6-aaf6-6494902547f5",
   "metadata": {},
   "outputs": [],
   "source": [
    "class Point:\n",
    "    def __init__(self, num_points):\n",
    "        self.xpoint = self.get_random(num_points)\n",
    "        self.ypoint = self.get_random(num_points)\n",
    "\n",
    "    def get_random(self, num_points):\n",
    "        return random.randrange(1, num_points * 100)\n",
    "        # The options to pick from will be 100 times the number of points\n",
    "        # This is only here to minimize the probably of ending up with collinear points\n",
    "        # This is important for our assumtption -> No three points are collinear"
   ]
  },
  {
   "cell_type": "raw",
   "id": "105e586d-94c0-4182-9eb4-243406ac699b",
   "metadata": {},
   "source": [
    "Generate a set of random x and y points"
   ]
  },
  {
   "cell_type": "code",
   "execution_count": 63,
   "id": "150e61fb-1fd2-4110-8644-b5ff42fc4a90",
   "metadata": {},
   "outputs": [],
   "source": [
    "def generatePoints(n):\n",
    "    points = [Point(n) for x in range(n)]\n",
    "\n",
    "    return points"
   ]
  },
  {
   "cell_type": "raw",
   "id": "f3dbdaa4-b811-4a8c-bf9b-d6cbb018ac0b",
   "metadata": {},
   "source": [
    "Create n points. Then put the points in a stack"
   ]
  },
  {
   "cell_type": "code",
   "execution_count": 64,
   "id": "ba0485fc-0e2f-44f0-a08f-42986cb6ca1f",
   "metadata": {},
   "outputs": [],
   "source": [
    "n=23\n",
    "points = generatePoints(n)"
   ]
  },
  {
   "cell_type": "raw",
   "id": "eff8725c-d9cc-49f3-b8a6-2fb62cb0f7f8",
   "metadata": {},
   "source": [
    "Display the random points on a graph"
   ]
  },
  {
   "cell_type": "code",
   "execution_count": 65,
   "id": "9a7b9218-ddac-47ff-8539-e2f0ab855d13",
   "metadata": {},
   "outputs": [
    {
     "data": {
      "image/png": "[encoded data removed]",
      "text/plain": [
       "<Figure size 640x480 with 1 Axes>"
      ]
     },
     "metadata": {},
     "output_type": "display_data"
    }
   ],
   "source": [
    "xpoints = [p.xpoint for p in points]\n",
    "ypoints = [p.ypoint for p in points]\n",
    "plt.plot(xpoints, ypoints, 'o')\n",
    "plt.axis('off')\n",
    "plt.show()"
   ]
  },
  {
   "cell_type": "raw",
   "id": "f6d4f055-e05c-437e-9a71-abcc9d629516",
   "metadata": {},
   "source": [
    "Implement a stack using LIFO Queue from Queue module"
   ]
  },
  {
   "cell_type": "code",
   "execution_count": 66,
   "id": "63822b47-7bc8-4e5e-a9ad-3c16ac8ecbe9",
   "metadata": {},
   "outputs": [],
   "source": [
    "stack = LifoQueue(maxsize=n)"
   ]
  },
  {
   "cell_type": "raw",
   "id": "8292dba7-f252-456b-94ab-86adaf5315dc",
   "metadata": {},
   "source": [
    "Find the point with the lowest y coordinate"
   ]
  },
  {
   "cell_type": "code",
   "execution_count": 67,
   "id": "aabcd3ac-b5dd-4f15-a1c4-15fbdcd25b53",
   "metadata": {},
   "outputs": [],
   "source": [
    "def findReferencePoint(points):\n",
    "    ref_point = None\n",
    "    for p in points:\n",
    "        if not ref_point:\n",
    "            ref_point = p\n",
    "        elif p.ypoint < ref_point.ypoint:\n",
    "            ref_point = p\n",
    "\n",
    "    return ref_point\n",
    "\n",
    "ref_point = findReferencePoint(points)"
   ]
  },
  {
   "cell_type": "raw",
   "id": "ae85a882-b976-4583-ba96-3d69e561a9e6",
   "metadata": {},
   "source": [
    "Put the ref point in the stack"
   ]
  },
  {
   "cell_type": "code",
   "execution_count": 68,
   "id": "6d57c854-b0b9-4f1f-a1ca-a940a34f2683",
   "metadata": {},
   "outputs": [],
   "source": [
    "stack.put(ref_point)"
   ]
  },
  {
   "cell_type": "raw",
   "id": "b07d9696-79f4-4bd1-a961-ba3765a82faa",
   "metadata": {},
   "source": [
    "Calculate Angles between ref point and each of the other points"
   ]
  },
  {
   "cell_type": "code",
   "execution_count": 69,
   "id": "8624a59b-adbe-46d5-ac0c-6f828f2e81c0",
   "metadata": {},
   "outputs": [
    {
     "data": {
      "text/plain": [
       "[{'angle': 1.4482555067513005, 'point': <__main__.Point at 0x7fbce49d3df0>},\n",
       " {'angle': 1.4372233042630114, 'point': <__main__.Point at 0x7fbce49d2140>},\n",
       " {'angle': 1.3545085602090159, 'point': <__main__.Point at 0x7fbce49d19f0>},\n",
       " {'angle': 1.2755991345744802, 'point': <__main__.Point at 0x7fbce49d1e40>},\n",
       " {'angle': 1.1503464369803882, 'point': <__main__.Point at 0x7fbce49d00a0>},\n",
       " {'angle': 1.1450880278605473, 'point': <__main__.Point at 0x7fbce49d2170>},\n",
       " {'angle': 1.1246241422815242, 'point': <__main__.Point at 0x7fbce49d2080>},\n",
       " {'angle': 1.0593363706438448, 'point': <__main__.Point at 0x7fbce49d22f0>},\n",
       " {'angle': 1.0477780150574778, 'point': <__main__.Point at 0x7fbce49d0fd0>},\n",
       " {'angle': 1.040519885450726, 'point': <__main__.Point at 0x7fbce49d2c50>},\n",
       " {'angle': 1.027234969465305, 'point': <__main__.Point at 0x7fbce49d24d0>},\n",
       " {'angle': 1.0241922178113667, 'point': <__main__.Point at 0x7fbce49d2770>},\n",
       " {'angle': 0.9786379030164881, 'point': <__main__.Point at 0x7fbce49d2740>},\n",
       " {'angle': 0.9544450946871836, 'point': <__main__.Point at 0x7fbce49d1300>},\n",
       " {'angle': 0.9431303026842605, 'point': <__main__.Point at 0x7fbce49d2c20>},\n",
       " {'angle': 0.901937669666721, 'point': <__main__.Point at 0x7fbce49d1c30>},\n",
       " {'angle': 0.7800192421686535, 'point': <__main__.Point at 0x7fbce49d3820>},\n",
       " {'angle': 0.7086262721276703, 'point': <__main__.Point at 0x7fbce49d34c0>},\n",
       " {'angle': 0.6579850744082276, 'point': <__main__.Point at 0x7fbce49d26e0>},\n",
       " {'angle': 0.6057229273145323, 'point': <__main__.Point at 0x7fbce49d2da0>},\n",
       " {'angle': 0.5281679413206273, 'point': <__main__.Point at 0x7fbce49d3190>},\n",
       " {'angle': 0.3991115038414217, 'point': <__main__.Point at 0x7fbce49d0d60>}]"
      ]
     },
     "execution_count": 69,
     "metadata": {},
     "output_type": "execute_result"
    }
   ],
   "source": [
    "points_ordered_by_angle = []\n",
    "\n",
    "def calculateAngle(ref_point, point):\n",
    "    angle = 0\n",
    "    # 90 and 180 degrees means the points are collinear\n",
    "    # When the points share an x axis, we will have a division by zero problem\n",
    "    # In this case, we already know the angle is 90 degrees or half of pi\n",
    "    if ref_point.xpoint == point.xpoint:\n",
    "        angle = pi/2\n",
    "    elif ref_point.ypoint == point.ypoint:\n",
    "        # When the points share a y axis, the angle between them is 180 degrees (pi radians)\n",
    "        angle = pi\n",
    "    else:\n",
    "        # Otherwise we calculate the angle from trig identities\n",
    "        # Tan = O/A -> Tan inverse (atan) gives us the angle\n",
    "        angle = atan((abs(ref_point.ypoint - point.ypoint))/(abs(ref_point.xpoint - point.xpoint)))\n",
    "\n",
    "    return angle\n",
    "\n",
    "for p in points:\n",
    "    if ref_point != p:\n",
    "        angle = calculateAngle(ref_point, p)\n",
    "        # All angles should be checked counterclockwise\n",
    "        if ref_point.ypoint > p.ypoint:\n",
    "            # pi radians = 180 degrees\n",
    "            angle = pi - angle\n",
    "\n",
    "        points_ordered_by_angle.append({\"angle\": angle, \"point\": p})\n",
    "\n",
    "# Sort the points by angle\n",
    "points_ordered_by_angle = sorted(points_ordered_by_angle, key=lambda d: d['angle'], reverse=True)\n",
    "points_ordered_by_angle"
   ]
  }
 ],
 "metadata": {
  "kernelspec": {
   "display_name": "Python 3 (ipykernel)",
   "language": "python",
   "name": "python3"
  },
  "language_info": {
   "codemirror_mode": {
    "name": "ipython",
    "version": 3
   },
   "file_extension": ".py",
   "mimetype": "text/x-python",
   "name": "python",
   "nbconvert_exporter": "python",
   "pygments_lexer": "ipython3",
   "version": "3.10.12"
  }
 },
 "nbformat": 4,
 "nbformat_minor": 5
}
